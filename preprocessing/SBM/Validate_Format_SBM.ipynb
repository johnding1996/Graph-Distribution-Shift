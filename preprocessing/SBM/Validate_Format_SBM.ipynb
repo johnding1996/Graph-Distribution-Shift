{
 "cells": [
  {
   "cell_type": "code",
   "execution_count": 1,
   "id": "441f5e4e-29e6-459d-8625-5dfeb7ebb003",
   "metadata": {},
   "outputs": [],
   "source": [
    "import torch\n",
    "import numpy as np"
   ]
  },
  {
   "cell_type": "code",
   "execution_count": 2,
   "id": "b14d9075-7223-4c6a-9bb7-096afde56987",
   "metadata": {},
   "outputs": [],
   "source": [
    "data = torch.load('SBM-Isolation.pt')\n",
    "group_idx = np.load('SBM-Isolation_group.npy')"
   ]
  },
  {
   "cell_type": "code",
   "execution_count": 3,
   "id": "381a5b45-cf18-42f9-b150-cc393a671abc",
   "metadata": {},
   "outputs": [
    {
     "name": "stdout",
     "output_type": "stream",
     "text": [
      "<class 'list'>\n"
     ]
    }
   ],
   "source": [
    "print(type(data))"
   ]
  },
  {
   "cell_type": "code",
   "execution_count": 4,
   "id": "ac1b4021-1ef9-4404-b787-fc509e7385ce",
   "metadata": {},
   "outputs": [
    {
     "name": "stdout",
     "output_type": "stream",
     "text": [
      "500\n"
     ]
    }
   ],
   "source": [
    "print(len(data))"
   ]
  },
  {
   "cell_type": "code",
   "execution_count": 5,
   "id": "bda786a2-f787-4ede-9fad-98fd9e14d86a",
   "metadata": {},
   "outputs": [
    {
     "name": "stdout",
     "output_type": "stream",
     "text": [
      "<class 'dict'>\n"
     ]
    }
   ],
   "source": [
    "print(type(data[0]))"
   ]
  },
  {
   "cell_type": "code",
   "execution_count": 6,
   "id": "42736320-ec6f-4db9-9da3-eed21aebb596",
   "metadata": {},
   "outputs": [
    {
     "name": "stdout",
     "output_type": "stream",
     "text": [
      "['x', 'y', 'edge_index']\n"
     ]
    }
   ],
   "source": [
    "print(list(data[0].keys()))"
   ]
  },
  {
   "cell_type": "code",
   "execution_count": 7,
   "id": "b2362eda-2a5a-4673-92a0-dfcedc042fbc",
   "metadata": {},
   "outputs": [
    {
     "name": "stdout",
     "output_type": "stream",
     "text": [
      "<class 'torch.Tensor'>\n"
     ]
    }
   ],
   "source": [
    "print(type(data[0]['x']))"
   ]
  },
  {
   "cell_type": "code",
   "execution_count": 8,
   "id": "a82b08fc-6a5e-49b5-bc34-aafdc49b8688",
   "metadata": {},
   "outputs": [
    {
     "name": "stdout",
     "output_type": "stream",
     "text": [
      "torch.Size([109, 1])\n"
     ]
    }
   ],
   "source": [
    "print(data[0]['x'].shape)"
   ]
  },
  {
   "cell_type": "code",
   "execution_count": 9,
   "id": "43549f58-cd98-436a-b1a2-7fc3abb5c820",
   "metadata": {},
   "outputs": [
    {
     "name": "stdout",
     "output_type": "stream",
     "text": [
      "tensor([[0],\n",
      "        [2],\n",
      "        [0],\n",
      "        [2],\n",
      "        [0],\n",
      "        [0],\n",
      "        [2],\n",
      "        [1],\n",
      "        [0],\n",
      "        [0],\n",
      "        [0],\n",
      "        [1],\n",
      "        [2],\n",
      "        [2],\n",
      "        [2],\n",
      "        [2],\n",
      "        [1],\n",
      "        [0],\n",
      "        [1],\n",
      "        [1],\n",
      "        [2],\n",
      "        [1],\n",
      "        [1],\n",
      "        [0],\n",
      "        [0],\n",
      "        [0],\n",
      "        [0],\n",
      "        [0],\n",
      "        [2],\n",
      "        [2],\n",
      "        [2],\n",
      "        [0],\n",
      "        [0],\n",
      "        [2],\n",
      "        [0],\n",
      "        [1],\n",
      "        [2],\n",
      "        [2],\n",
      "        [0],\n",
      "        [2],\n",
      "        [0],\n",
      "        [1],\n",
      "        [1],\n",
      "        [2],\n",
      "        [0],\n",
      "        [0],\n",
      "        [0],\n",
      "        [0],\n",
      "        [1],\n",
      "        [2],\n",
      "        [0],\n",
      "        [0],\n",
      "        [0],\n",
      "        [2],\n",
      "        [0],\n",
      "        [1],\n",
      "        [1],\n",
      "        [0],\n",
      "        [0],\n",
      "        [1],\n",
      "        [0],\n",
      "        [2],\n",
      "        [2],\n",
      "        [0],\n",
      "        [2],\n",
      "        [2],\n",
      "        [0],\n",
      "        [2],\n",
      "        [2],\n",
      "        [2],\n",
      "        [2],\n",
      "        [2],\n",
      "        [0],\n",
      "        [0],\n",
      "        [0],\n",
      "        [2],\n",
      "        [0],\n",
      "        [0],\n",
      "        [1],\n",
      "        [2],\n",
      "        [2],\n",
      "        [2],\n",
      "        [1],\n",
      "        [1],\n",
      "        [1],\n",
      "        [0],\n",
      "        [0],\n",
      "        [1],\n",
      "        [0],\n",
      "        [0],\n",
      "        [1],\n",
      "        [1],\n",
      "        [2],\n",
      "        [0],\n",
      "        [0],\n",
      "        [0],\n",
      "        [1],\n",
      "        [2],\n",
      "        [2],\n",
      "        [1],\n",
      "        [2],\n",
      "        [0],\n",
      "        [1],\n",
      "        [0],\n",
      "        [0],\n",
      "        [2],\n",
      "        [1],\n",
      "        [0],\n",
      "        [0]])\n"
     ]
    }
   ],
   "source": [
    "print(data[0]['x'])"
   ]
  },
  {
   "cell_type": "code",
   "execution_count": 10,
   "id": "3d252bdd-bb0b-4d18-a525-2e36215434e1",
   "metadata": {},
   "outputs": [
    {
     "name": "stdout",
     "output_type": "stream",
     "text": [
      "torch.int64\n"
     ]
    }
   ],
   "source": [
    "print(data[0]['x'].dtype)"
   ]
  },
  {
   "cell_type": "code",
   "execution_count": 11,
   "id": "511cc21f-0ef3-4164-92ea-01f61b92163b",
   "metadata": {},
   "outputs": [
    {
     "name": "stdout",
     "output_type": "stream",
     "text": [
      "torch.Size([])\n"
     ]
    }
   ],
   "source": [
    "print(data[0]['y'].shape)"
   ]
  },
  {
   "cell_type": "code",
   "execution_count": 12,
   "id": "2bab750b-ceb4-425b-a18c-ac38f47e136b",
   "metadata": {},
   "outputs": [
    {
     "name": "stdout",
     "output_type": "stream",
     "text": [
      "tensor(4)\n"
     ]
    }
   ],
   "source": [
    "print(data[0]['y'])"
   ]
  },
  {
   "cell_type": "code",
   "execution_count": 13,
   "id": "83fc1131-eebe-4b42-8e70-197ee4df6075",
   "metadata": {},
   "outputs": [
    {
     "name": "stdout",
     "output_type": "stream",
     "text": [
      "torch.int64\n"
     ]
    }
   ],
   "source": [
    "print(data[0]['y'].dtype)"
   ]
  },
  {
   "cell_type": "code",
   "execution_count": 14,
   "id": "1337db6d-764e-4508-a625-5816f64de4c8",
   "metadata": {},
   "outputs": [
    {
     "name": "stdout",
     "output_type": "stream",
     "text": [
      "torch.Size([2, 4548])\n"
     ]
    }
   ],
   "source": [
    "print(data[0]['edge_index'].shape)"
   ]
  },
  {
   "cell_type": "code",
   "execution_count": 15,
   "id": "0b548d61-9826-4540-a906-4b11cd31ec3a",
   "metadata": {},
   "outputs": [
    {
     "name": "stdout",
     "output_type": "stream",
     "text": [
      "tensor([[  0,   0,   0,  ..., 108, 108, 108],\n",
      "        [  1,   7,  10,  ..., 100, 102, 103]])\n"
     ]
    }
   ],
   "source": [
    "print(data[0]['edge_index'])"
   ]
  },
  {
   "cell_type": "code",
   "execution_count": 16,
   "id": "d34d27b1-ddc1-43ed-b2a5-b560cc6289e6",
   "metadata": {},
   "outputs": [
    {
     "name": "stdout",
     "output_type": "stream",
     "text": [
      "torch.int64\n"
     ]
    }
   ],
   "source": [
    "print(data[0]['edge_index'].dtype)"
   ]
  },
  {
   "cell_type": "code",
   "execution_count": 17,
   "id": "0cd95c3e-7064-4de2-9d78-c7e5c38ea5f7",
   "metadata": {},
   "outputs": [],
   "source": [
    "edge_index = data[0]['edge_index'].numpy()"
   ]
  },
  {
   "cell_type": "code",
   "execution_count": 18,
   "id": "6b6c3901-7b3c-4839-ba09-6c2e2290d94d",
   "metadata": {},
   "outputs": [
    {
     "name": "stdout",
     "output_type": "stream",
     "text": [
      "<class 'numpy.ndarray'>\n"
     ]
    }
   ],
   "source": [
    "print(type(group_idx))"
   ]
  },
  {
   "cell_type": "code",
   "execution_count": 19,
   "id": "02dcb269-da1d-4a4d-80f5-63803ab1fbf2",
   "metadata": {},
   "outputs": [
    {
     "name": "stdout",
     "output_type": "stream",
     "text": [
      "(500,)\n"
     ]
    }
   ],
   "source": [
    "print(group_idx.shape)"
   ]
  },
  {
   "cell_type": "code",
   "execution_count": 20,
   "id": "1a38f0b7-2c83-4b75-b1e5-164b911b5bda",
   "metadata": {},
   "outputs": [
    {
     "name": "stdout",
     "output_type": "stream",
     "text": [
      "[30 13  6 12 10  4 18  7 11 34 18  4 32 35 31  2 35 25  9  7 31 32 23 17\n",
      " 10  3  7 28  2 29 19 35 35 26 17 16 27 29  0 35  6 17 28 28 20 34  7  0\n",
      " 15 26 11 21  8 20 13 22 21  8 33 19 26 32 27 16  4 10 21 18 29 28 31  0\n",
      " 12  5 29 18  3  7 27 21 32  8 32  7 12 33 11 21 22 20  3 30  9 18 13 18\n",
      " 13 27 26 28 26 29 24  7 27 23  6  1 24 14 26 18 15 35  6 24  1 11  1 23\n",
      " 26  9 33 28 19 11 25 32 30 29 17 27 10 10 31 34  6 21 21 13 25 28  7 20\n",
      " 24 19 16 12  6  6 33  6 20  4  5  3  8 12  4  8  3 14 24 16 10 17 31 12\n",
      " 26 20 22 17 20 24 11  9 13  9 24 16 16 22  0  6  0 18 35 20  1 28 34 33\n",
      " 27 35 20 16 34 34  3 26 32  7 22  4  5 25  8 18 34 27 10 15 33  8  2 18\n",
      " 10 12  3  9 14  4 21 20 18  2 22 24 18  8  8 13 20 11  5 16  2 31  0 20\n",
      " 17 29 16  0 14 11  3 31 27 13 27 16 11 27 12 18 12 29 25 11 12 25 11 35\n",
      " 34 30 28 16 14  1  0 24  5 35 10 32 21 34 27 26 34 32 27 11 22 20 13 28\n",
      " 30 11  5 26 11 12 10 26 26 31 23  0 13 21 27 22 35 29  4 30 31  6  5 34\n",
      " 27 28  3 27 21 24 26  1 17 11 20 17  5 20 27  5  2 18 18 17  1 24 11  2\n",
      " 33 30 17  3 18 29 23 31 20 28 26 27 15 26 11 31 13 35  0 35 25  6 25  3\n",
      " 21  2 17 14 13 24  3 22  2 20 26 12 28 33  1 13 29 13  4  9 19 31  7 32\n",
      " 20 22 33  8  6 35 23 27 27 16  8 10 29 14  0 10  9 17 25 33 27 13 34  9\n",
      " 19 10  8 30  2  7 12 13 21 13  3  1 30 26 10 30  3  2 16  3  1 28 25 23\n",
      "  0  0  4 25 14 29 17 27 33 30  6 30  8 30 10 16 25 20 10 14  5 28  4 33\n",
      " 30  4 17  2 19 22 25 11 31  5 35 35  7 28  1 35 31 29  6 29 35 23  8 14\n",
      " 25 21 28  9 20 35 33 33 16 31 25  1 15  1 16  6 13 30 21 32]\n"
     ]
    }
   ],
   "source": [
    "print(group_idx)"
   ]
  },
  {
   "cell_type": "code",
   "execution_count": 21,
   "id": "ed011a2d-8356-4a0b-b162-5a302aaf5c87",
   "metadata": {},
   "outputs": [
    {
     "name": "stdout",
     "output_type": "stream",
     "text": [
      "int64\n"
     ]
    }
   ],
   "source": [
    "print(group_idx.dtype)"
   ]
  }
 ],
 "metadata": {
  "kernelspec": {
   "display_name": "Python 3 (ipykernel)",
   "language": "python",
   "name": "python3"
  },
  "language_info": {
   "codemirror_mode": {
    "name": "ipython",
    "version": 3
   },
   "file_extension": ".py",
   "mimetype": "text/x-python",
   "name": "python",
   "nbconvert_exporter": "python",
   "pygments_lexer": "ipython3",
   "version": "3.7.9"
  }
 },
 "nbformat": 4,
 "nbformat_minor": 5
}
