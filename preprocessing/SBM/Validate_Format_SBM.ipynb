{
 "cells": [
  {
   "cell_type": "code",
   "execution_count": 1,
   "id": "441f5e4e-29e6-459d-8625-5dfeb7ebb003",
   "metadata": {},
   "outputs": [],
   "source": [
    "import torch\n",
    "import numpy as np"
   ]
  },
  {
   "cell_type": "code",
   "execution_count": 2,
   "id": "b14d9075-7223-4c6a-9bb7-096afde56987",
   "metadata": {},
   "outputs": [],
   "source": [
    "data = torch.load('SBM1.pt')\n",
    "group_idx = np.load('SBM1_group.npy')"
   ]
  },
  {
   "cell_type": "code",
   "execution_count": 3,
   "id": "381a5b45-cf18-42f9-b150-cc393a671abc",
   "metadata": {},
   "outputs": [
    {
     "name": "stdout",
     "output_type": "stream",
     "text": [
      "<class 'list'>\n"
     ]
    }
   ],
   "source": [
    "print(type(data))"
   ]
  },
  {
   "cell_type": "code",
   "execution_count": 4,
   "id": "ac1b4021-1ef9-4404-b787-fc509e7385ce",
   "metadata": {},
   "outputs": [
    {
     "name": "stdout",
     "output_type": "stream",
     "text": [
      "5000\n"
     ]
    }
   ],
   "source": [
    "print(len(data))"
   ]
  },
  {
   "cell_type": "code",
   "execution_count": 5,
   "id": "bda786a2-f787-4ede-9fad-98fd9e14d86a",
   "metadata": {},
   "outputs": [
    {
     "name": "stdout",
     "output_type": "stream",
     "text": [
      "<class 'dict'>\n"
     ]
    }
   ],
   "source": [
    "print(type(data[0]))"
   ]
  },
  {
   "cell_type": "code",
   "execution_count": 6,
   "id": "42736320-ec6f-4db9-9da3-eed21aebb596",
   "metadata": {},
   "outputs": [
    {
     "name": "stdout",
     "output_type": "stream",
     "text": [
      "['x', 'y', 'edge_index']\n"
     ]
    }
   ],
   "source": [
    "print(list(data[0].keys()))"
   ]
  },
  {
   "cell_type": "code",
   "execution_count": 7,
   "id": "b2362eda-2a5a-4673-92a0-dfcedc042fbc",
   "metadata": {},
   "outputs": [
    {
     "name": "stdout",
     "output_type": "stream",
     "text": [
      "<class 'torch.Tensor'>\n"
     ]
    }
   ],
   "source": [
    "print(type(data[0]['x']))"
   ]
  },
  {
   "cell_type": "code",
   "execution_count": 8,
   "id": "a82b08fc-6a5e-49b5-bc34-aafdc49b8688",
   "metadata": {},
   "outputs": [
    {
     "name": "stdout",
     "output_type": "stream",
     "text": [
      "torch.Size([91, 1])\n"
     ]
    }
   ],
   "source": [
    "print(data[0]['x'].shape)"
   ]
  },
  {
   "cell_type": "code",
   "execution_count": 9,
   "id": "43549f58-cd98-436a-b1a2-7fc3abb5c820",
   "metadata": {},
   "outputs": [
    {
     "name": "stdout",
     "output_type": "stream",
     "text": [
      "tensor([[1.],\n",
      "        [1.],\n",
      "        [2.],\n",
      "        [2.],\n",
      "        [2.],\n",
      "        [0.],\n",
      "        [1.],\n",
      "        [1.],\n",
      "        [2.],\n",
      "        [2.],\n",
      "        [0.],\n",
      "        [1.],\n",
      "        [0.],\n",
      "        [1.],\n",
      "        [2.],\n",
      "        [2.],\n",
      "        [1.],\n",
      "        [2.],\n",
      "        [1.],\n",
      "        [2.],\n",
      "        [0.],\n",
      "        [0.],\n",
      "        [2.],\n",
      "        [0.],\n",
      "        [2.],\n",
      "        [2.],\n",
      "        [2.],\n",
      "        [0.],\n",
      "        [2.],\n",
      "        [1.],\n",
      "        [2.],\n",
      "        [0.],\n",
      "        [0.],\n",
      "        [0.],\n",
      "        [1.],\n",
      "        [1.],\n",
      "        [1.],\n",
      "        [2.],\n",
      "        [1.],\n",
      "        [2.],\n",
      "        [0.],\n",
      "        [2.],\n",
      "        [2.],\n",
      "        [0.],\n",
      "        [1.],\n",
      "        [0.],\n",
      "        [1.],\n",
      "        [1.],\n",
      "        [2.],\n",
      "        [0.],\n",
      "        [1.],\n",
      "        [1.],\n",
      "        [1.],\n",
      "        [0.],\n",
      "        [0.],\n",
      "        [1.],\n",
      "        [1.],\n",
      "        [0.],\n",
      "        [1.],\n",
      "        [1.],\n",
      "        [2.],\n",
      "        [2.],\n",
      "        [1.],\n",
      "        [1.],\n",
      "        [0.],\n",
      "        [0.],\n",
      "        [2.],\n",
      "        [1.],\n",
      "        [1.],\n",
      "        [0.],\n",
      "        [0.],\n",
      "        [2.],\n",
      "        [0.],\n",
      "        [2.],\n",
      "        [2.],\n",
      "        [1.],\n",
      "        [0.],\n",
      "        [2.],\n",
      "        [0.],\n",
      "        [0.],\n",
      "        [0.],\n",
      "        [2.],\n",
      "        [0.],\n",
      "        [2.],\n",
      "        [2.],\n",
      "        [1.],\n",
      "        [0.],\n",
      "        [2.],\n",
      "        [1.],\n",
      "        [2.],\n",
      "        [0.]])\n"
     ]
    }
   ],
   "source": [
    "print(data[0]['x'])"
   ]
  },
  {
   "cell_type": "code",
   "execution_count": 10,
   "id": "3d252bdd-bb0b-4d18-a525-2e36215434e1",
   "metadata": {},
   "outputs": [
    {
     "name": "stdout",
     "output_type": "stream",
     "text": [
      "torch.float32\n"
     ]
    }
   ],
   "source": [
    "print(data[0]['x'].dtype)"
   ]
  },
  {
   "cell_type": "code",
   "execution_count": 11,
   "id": "511cc21f-0ef3-4164-92ea-01f61b92163b",
   "metadata": {},
   "outputs": [
    {
     "name": "stdout",
     "output_type": "stream",
     "text": [
      "torch.Size([])\n"
     ]
    }
   ],
   "source": [
    "print(data[0]['y'].shape)"
   ]
  },
  {
   "cell_type": "code",
   "execution_count": 12,
   "id": "2bab750b-ceb4-425b-a18c-ac38f47e136b",
   "metadata": {},
   "outputs": [
    {
     "name": "stdout",
     "output_type": "stream",
     "text": [
      "tensor(1)\n"
     ]
    }
   ],
   "source": [
    "print(data[0]['y'])"
   ]
  },
  {
   "cell_type": "code",
   "execution_count": 13,
   "id": "83fc1131-eebe-4b42-8e70-197ee4df6075",
   "metadata": {},
   "outputs": [
    {
     "name": "stdout",
     "output_type": "stream",
     "text": [
      "torch.int64\n"
     ]
    }
   ],
   "source": [
    "print(data[0]['y'].dtype)"
   ]
  },
  {
   "cell_type": "code",
   "execution_count": 14,
   "id": "1337db6d-764e-4508-a625-5816f64de4c8",
   "metadata": {},
   "outputs": [
    {
     "name": "stdout",
     "output_type": "stream",
     "text": [
      "torch.Size([2, 3554])\n"
     ]
    }
   ],
   "source": [
    "print(data[0]['edge_index'].shape)"
   ]
  },
  {
   "cell_type": "code",
   "execution_count": 15,
   "id": "0b548d61-9826-4540-a906-4b11cd31ec3a",
   "metadata": {},
   "outputs": [
    {
     "name": "stdout",
     "output_type": "stream",
     "text": [
      "tensor([[ 0,  0,  0,  ..., 90, 90, 90],\n",
      "        [ 1,  5,  8,  ..., 87, 88, 89]])\n"
     ]
    }
   ],
   "source": [
    "print(data[0]['edge_index'])"
   ]
  },
  {
   "cell_type": "code",
   "execution_count": 16,
   "id": "d34d27b1-ddc1-43ed-b2a5-b560cc6289e6",
   "metadata": {},
   "outputs": [
    {
     "name": "stdout",
     "output_type": "stream",
     "text": [
      "torch.int64\n"
     ]
    }
   ],
   "source": [
    "print(data[0]['edge_index'].dtype)"
   ]
  },
  {
   "cell_type": "code",
   "execution_count": 17,
   "id": "0cd95c3e-7064-4de2-9d78-c7e5c38ea5f7",
   "metadata": {},
   "outputs": [],
   "source": [
    "edge_index = data[0]['edge_index'].numpy()"
   ]
  },
  {
   "cell_type": "code",
   "execution_count": 18,
   "id": "61c29539-db32-499a-9d3f-ab30c3dd22a5",
   "metadata": {},
   "outputs": [
    {
     "data": {
      "text/plain": [
       "(array([2324], dtype=int64),)"
      ]
     },
     "execution_count": 18,
     "metadata": {},
     "output_type": "execute_result"
    }
   ],
   "source": [
    "np.where((edge_index[0] == 59) & (edge_index[1] == 0))"
   ]
  },
  {
   "cell_type": "code",
   "execution_count": 19,
   "id": "589b3bb2-06a5-46f5-8a63-073f207036bb",
   "metadata": {},
   "outputs": [
    {
     "data": {
      "text/plain": [
       "array([12, 21], dtype=int64)"
      ]
     },
     "execution_count": 19,
     "metadata": {},
     "output_type": "execute_result"
    }
   ],
   "source": [
    "edge_index[:, 474]"
   ]
  },
  {
   "cell_type": "code",
   "execution_count": 20,
   "id": "6b6c3901-7b3c-4839-ba09-6c2e2290d94d",
   "metadata": {},
   "outputs": [
    {
     "name": "stdout",
     "output_type": "stream",
     "text": [
      "<class 'numpy.ndarray'>\n"
     ]
    }
   ],
   "source": [
    "print(type(group_idx))"
   ]
  },
  {
   "cell_type": "code",
   "execution_count": 21,
   "id": "02dcb269-da1d-4a4d-80f5-63803ab1fbf2",
   "metadata": {},
   "outputs": [
    {
     "name": "stdout",
     "output_type": "stream",
     "text": [
      "(5000,)\n"
     ]
    }
   ],
   "source": [
    "print(group_idx.shape)"
   ]
  },
  {
   "cell_type": "code",
   "execution_count": 22,
   "id": "1a38f0b7-2c83-4b75-b1e5-164b911b5bda",
   "metadata": {},
   "outputs": [
    {
     "name": "stdout",
     "output_type": "stream",
     "text": [
      "[ 0  0  0 ... 49 49 49]\n"
     ]
    }
   ],
   "source": [
    "print(group_idx)"
   ]
  },
  {
   "cell_type": "code",
   "execution_count": 23,
   "id": "ed011a2d-8356-4a0b-b162-5a302aaf5c87",
   "metadata": {},
   "outputs": [
    {
     "name": "stdout",
     "output_type": "stream",
     "text": [
      "int64\n"
     ]
    }
   ],
   "source": [
    "print(group_idx.dtype)"
   ]
  },
  {
   "cell_type": "code",
   "execution_count": null,
   "id": "327acc76-6a12-4271-b5db-2f81ec97cd5e",
   "metadata": {},
   "outputs": [],
   "source": []
  }
 ],
 "metadata": {
  "kernelspec": {
   "display_name": "Python 3 (ipykernel)",
   "language": "python",
   "name": "python3"
  },
  "language_info": {
   "codemirror_mode": {
    "name": "ipython",
    "version": 3
   },
   "file_extension": ".py",
   "mimetype": "text/x-python",
   "name": "python",
   "nbconvert_exporter": "python",
   "pygments_lexer": "ipython3",
   "version": "3.7.9"
  }
 },
 "nbformat": 4,
 "nbformat_minor": 5
}
