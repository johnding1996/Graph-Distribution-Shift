{
 "cells": [
  {
   "cell_type": "markdown",
   "metadata": {},
   "source": [
    "# Visulization of the OGB-MolPCBA Dataset"
   ]
  },
  {
   "cell_type": "markdown",
   "metadata": {},
   "source": [
    "## Import Data"
   ]
  },
  {
   "cell_type": "code",
   "execution_count": 1,
   "metadata": {},
   "outputs": [
    {
     "name": "stderr",
     "output_type": "stream",
     "text": [
      "WARNING:root:The OGB package is out of date. Your version is 1.3.1, while the latest version is 1.3.2.\n"
     ]
    }
   ],
   "source": [
    "import os\n",
    "import torch\n",
    "import numpy as np\n",
    "from gds.datasets.ogbmolhiv_dataset import OGBHIVDataset"
   ]
  },
  {
   "cell_type": "code",
   "execution_count": 2,
   "metadata": {},
   "outputs": [],
   "source": [
    "# download  and process the dataset\n",
    "root_dir = '/cmlscratch/kong/datasets/graph_domain'\n",
    "dataset = OGBHIVDataset(root_dir=root_dir, model='gin')"
   ]
  },
  {
   "cell_type": "code",
   "execution_count": 3,
   "metadata": {},
   "outputs": [],
   "source": [
    "# set variables\n",
    "split_scheme = dataset._split_scheme\n",
    "y_type = dataset._y_type \n",
    "y_size = dataset._y_size\n",
    "n_classes = dataset._n_classes"
   ]
  },
  {
   "cell_type": "code",
   "execution_count": 4,
   "metadata": {},
   "outputs": [],
   "source": [
    "# initialize data\n",
    "\n",
    "# Here ogb_dataset.data is a torch_geometric.data.Data object\n",
    "# See the docs at https://pytorch-geometric.readthedocs.io/en/latest/modules/data.html?highlight=data.data.Data#torch_geometric.data.Data\n",
    "\n",
    "# node features\n",
    "x_array = dataset.ogb_dataset.data.x.data.numpy()\n",
    "\n",
    "# graph connectivity\n",
    "edge_index_array = dataset.ogb_dataset.data.edge_index.data.numpy()\n",
    "\n",
    "# edge features\n",
    "edge_attr_array = dataset.ogb_dataset.data.edge_attr.data.numpy()\n",
    "\n",
    "# labels\n",
    "y_array = dataset.ogb_dataset.data.y.data.numpy()\n",
    "\n",
    "# train/val/test split\n",
    "split_array = dataset._split_array\n",
    "\n",
    "# scaffold (metadata)\n",
    "scaffold_array = dataset._metadata_array_wo_y.squeeze()\n",
    "\n",
    "# num of nodes in each graph\n",
    "num_of_nodes_array = np.array([dataset[i][0].x.shape[0] for i in range(len(dataset))])\n",
    "\n",
    "# num of edges in each graph\n",
    "num_of_edges_array = np.array([dataset[i][0].edge_index.shape[1] for i in range(len(dataset))])"
   ]
  },
  {
   "cell_type": "code",
   "execution_count": 5,
   "metadata": {},
   "outputs": [
    {
     "name": "stdout",
     "output_type": "stream",
     "text": [
      "Shapes of variables:\n",
      "x:  (1049163, 9)\n",
      "edge index:  (2, 2259376)\n",
      "edge attributes:  (2259376, 3)\n",
      "y:  (41127, 1)\n",
      "split:  torch.Size([41127])\n",
      "scaffold:  torch.Size([41127])\n",
      "num of nodes:  (41127,)\n",
      "num of edges:  (41127,)\n"
     ]
    }
   ],
   "source": [
    "print('Shapes of variables:')\n",
    "print('x: ', x_array.shape)\n",
    "print('edge index: ', edge_index_array.shape)\n",
    "print('edge attributes: ', edge_attr_array.shape)\n",
    "print('y: ', y_array.shape)\n",
    "print('split: ', split_array.shape)\n",
    "print('scaffold: ', scaffold_array.shape)\n",
    "print('num of nodes: ', num_of_nodes_array.shape)\n",
    "print('num of edges: ', num_of_edges_array.shape)"
   ]
  },
  {
   "cell_type": "code",
   "execution_count": 6,
   "metadata": {},
   "outputs": [
    {
     "name": "stdout",
     "output_type": "stream",
     "text": [
      "Heads of these variables:\n",
      "x: \n",
      " [[ 5  0  4  5  3  0  2  0  0]\n",
      " [ 5  0  4  5  2  0  2  0  0]\n",
      " [ 5  0  3  5  0  0  1  0  1]\n",
      " [ 7  0  2  6  0  0  1  0  1]\n",
      " [28  0  4  2  0  0  5  0  1]]\n",
      "edge index: \n",
      " [[0 1 1 2 2]\n",
      " [1 0 2 1 3]]\n",
      "edge attributes: \n",
      " [[0 0 0]\n",
      " [0 0 0]\n",
      " [0 0 0]\n",
      " [0 0 0]\n",
      " [1 0 0]]\n",
      "y: \n",
      " [[0]\n",
      " [0]\n",
      " [0]\n",
      " [0]\n",
      " [0]]\n",
      "split: \n",
      " tensor([2, 2, 2, 0, 0, 0, 0, 2, 0, 0])\n",
      "scaffold: \n",
      " tensor([19088, 19087, 19086,     4,     1,     0,     0, 19085,    22,    22])\n",
      "num of nodes: \n",
      " [19 39 21 24 10 16 10 18 26 20]\n",
      "num of edges: \n",
      " [40 88 48 50 18 32 20 38 54 42]\n"
     ]
    }
   ],
   "source": [
    "print('Heads of these variables:')\n",
    "print('x: \\n', x_array[:5, :])\n",
    "print('edge index: \\n', edge_index_array[:, :5])\n",
    "print('edge attributes: \\n', edge_attr_array[:5, :])\n",
    "print('y: \\n', y_array[:5, :2])\n",
    "print('split: \\n', split_array[:10])\n",
    "print('scaffold: \\n', scaffold_array[:10])\n",
    "print('num of nodes: \\n', num_of_nodes_array[:10])\n",
    "print('num of edges: \\n', num_of_edges_array[:10])"
   ]
  },
  {
   "cell_type": "code",
   "execution_count": null,
   "metadata": {},
   "outputs": [],
   "source": []
  },
  {
   "cell_type": "markdown",
   "metadata": {},
   "source": [
    "### Generate Subsets of Train/Val/Test"
   ]
  },
  {
   "cell_type": "markdown",
   "metadata": {},
   "source": [
    "First, understand the original train/val/test split ratios"
   ]
  },
  {
   "cell_type": "code",
   "execution_count": 7,
   "metadata": {},
   "outputs": [
    {
     "name": "stdout",
     "output_type": "stream",
     "text": [
      "Number of train/val/test graphs:  32901 / 4113 / 4113\n",
      "The train/val/test ratios: 0.8000 / 0.1000 / 0.1000\n"
     ]
    }
   ],
   "source": [
    "num_of_train_graphs = np.where(split_array == 0)[0].shape[0]\n",
    "num_of_val_graphs = np.where(split_array == 1)[0].shape[0]\n",
    "num_of_test_graphs = np.where(split_array == 2)[0].shape[0]\n",
    "\n",
    "print('Number of train/val/test graphs: ', num_of_train_graphs, '/', num_of_val_graphs, '/', num_of_test_graphs)\n",
    "print('The train/val/test ratios: {:.4f} / {:.4f} / {:.4f}'.format(\n",
    "    num_of_train_graphs/split_array.shape[0], \n",
    "    num_of_val_graphs/split_array.shape[0],\n",
    "    num_of_test_graphs/split_array.shape[0]))"
   ]
  },
  {
   "cell_type": "markdown",
   "metadata": {},
   "source": [
    "Then, we sample some graphs from train/val/test sets, and set the total number of graphs to 10000"
   ]
  },
  {
   "cell_type": "code",
   "execution_count": 8,
   "metadata": {},
   "outputs": [
    {
     "name": "stdout",
     "output_type": "stream",
     "text": [
      "Number of scaffolds in train/test/val:  10863 / 4113 / 4113\n"
     ]
    }
   ],
   "source": [
    "# the number of samples randomly selected from the train/val/test sets\n",
    "num_of_train_graphs = 8000\n",
    "num_of_val_graphs = 1000\n",
    "num_of_test_graphs = 1000\n",
    "# find the scaffold indices for train/val/test sets\n",
    "train_scaffold_array = np.unique(scaffold_array[np.where(split_array == 0)[0]])\n",
    "val_scaffold_array = np.unique(scaffold_array[np.where(split_array == 1)[0]])\n",
    "test_scaffold_array = np.unique(scaffold_array[np.where(split_array == 2)[0]])\n",
    "\n",
    "print('Number of scaffolds in train/test/val: ', train_scaffold_array.shape[0], '/',\n",
    "     val_scaffold_array.shape[0], '/', test_scaffold_array.shape[0])"
   ]
  },
  {
   "cell_type": "markdown",
   "metadata": {},
   "source": [
    "These numbers match what it is in the paper (page 82 of https://arxiv.org/pdf/2012.07421.pdf)\n",
    "\n",
    "And actually the train/val/test scaffold indices are just 0 ~ 44929 / 44930 ~ 76920 / 76921 ~ 120083"
   ]
  },
  {
   "cell_type": "code",
   "execution_count": 9,
   "metadata": {},
   "outputs": [
    {
     "name": "stdout",
     "output_type": "stream",
     "text": [
      "Train scaffold indices:  [    0     1     2 ... 10860 10861 10862]\n",
      "Val scaffold indices:  [10863 10864 10865 ... 14973 14974 14975]\n",
      "Test scaffold indices:  [14976 14977 14978 ... 19086 19087 19088]\n"
     ]
    }
   ],
   "source": [
    "print('Train scaffold indices: ', train_scaffold_array)\n",
    "print('Val scaffold indices: ', val_scaffold_array)\n",
    "print('Test scaffold indices: ', test_scaffold_array)"
   ]
  },
  {
   "cell_type": "markdown",
   "metadata": {},
   "source": [
    "Now we want to sample scaffolds in train/test/val so that the total number of graphs in train/test/val is (or maybe a little bit larger) than 8000/1000/1000"
   ]
  },
  {
   "cell_type": "code",
   "execution_count": 10,
   "metadata": {},
   "outputs": [
    {
     "name": "stdout",
     "output_type": "stream",
     "text": [
      "Number of selected train/val/test graphs:  8000 / 1000 / 1000\n",
      "Train graph indices start with:  [  104  5441 15340 15341 16462 22874 28646 28647 28730 35203]\n",
      "Val graph indices start with:  [11954 21733 22179 12397 15375 15873 13957 13520 20668 15299]\n",
      "Test graph indices start with:  [2151 9296 9576 2634 5195 5636 4104 3712 8600 5133]\n"
     ]
    }
   ],
   "source": [
    "# general procedure to sample for train/test/val\n",
    "def sample_graphs(splitted_scaffold_array, num_of_graphs):\n",
    "    # fix random seed to 0\n",
    "    # i strongly recommend we use the same random seed 0 here to generated the selected indices\n",
    "    np.random.seed(0)\n",
    "    selected_graph_indices = np.array([], dtype=np.int64)\n",
    "    for selected_scaffold_index in np.random.choice(splitted_scaffold_array, size=num_of_graphs, replace=False):\n",
    "        selected_graph_indices = np.append(selected_graph_indices, np.where(scaffold_array == selected_scaffold_index)[0])\n",
    "        if selected_graph_indices.shape[0] >= num_of_graphs:\n",
    "            break\n",
    "    return selected_graph_indices\n",
    "\n",
    "# generate graph indices\n",
    "sel_train_graph_idx = sample_graphs(train_scaffold_array, num_of_train_graphs)\n",
    "sel_val_graph_idx = sample_graphs(val_scaffold_array, num_of_val_graphs)\n",
    "sel_test_graph_idx = sample_graphs(test_scaffold_array, num_of_test_graphs)\n",
    "\n",
    "# number of graphs now in the selected train/val/test subsets\n",
    "print('Number of selected train/val/test graphs: ', sel_train_graph_idx.shape[0], '/',\n",
    "      sel_val_graph_idx.shape[0], '/', sel_test_graph_idx.shape[0])\n",
    "\n",
    "# if you want to doble check, check the heads of these three list of indices\n",
    "print('Train graph indices start with: ', sel_train_graph_idx[:10])\n",
    "print('Val graph indices start with: ', sel_val_graph_idx[:10])\n",
    "print('Test graph indices start with: ', sel_test_graph_idx[:10])"
   ]
  },
  {
   "cell_type": "code",
   "execution_count": 11,
   "metadata": {},
   "outputs": [],
   "source": [
    "# dump the selected graph indices to file\n",
    "# np.save('sel_train_graph_idx.npy', sel_train_graph_idx)\n",
    "# np.save('sel_val_graph_idx.npy', sel_val_graph_idx)\n",
    "# np.save('sel_test_graph_idx.npy', sel_test_graph_idx)"
   ]
  },
  {
   "cell_type": "markdown",
   "metadata": {},
   "source": [
    "We are happy that we got exactly 8000/1000/1000 graphs in the new train/val/test sets"
   ]
  },
  {
   "cell_type": "code",
   "execution_count": 12,
   "metadata": {},
   "outputs": [
    {
     "name": "stdout",
     "output_type": "stream",
     "text": [
      "Number of selected train/val/test scaffolds:  3103 / 1000 / 1000\n"
     ]
    }
   ],
   "source": [
    "# now find the selected scaffold indices\n",
    "sel_train_scaffold_idx = np.unique(scaffold_array[sel_train_graph_idx])\n",
    "sel_val_scaffold_idx = np.unique(scaffold_array[sel_val_graph_idx])\n",
    "sel_test_scaffold_idx = np.unique(scaffold_array[sel_test_graph_idx])\n",
    "\n",
    "print('Number of selected train/val/test scaffolds: ', sel_train_scaffold_idx.shape[0], '/',\n",
    "      sel_val_scaffold_idx.shape[0], '/', sel_test_scaffold_idx.shape[0])"
   ]
  },
  {
   "cell_type": "markdown",
   "metadata": {},
   "source": [
    "It is not surprising that we selected 1000 test scaffolds, because each test scaffold has only 1 graph."
   ]
  },
  {
   "cell_type": "code",
   "execution_count": null,
   "metadata": {},
   "outputs": [],
   "source": []
  },
  {
   "cell_type": "markdown",
   "metadata": {},
   "source": [
    "### Scatter Vis"
   ]
  },
  {
   "cell_type": "code",
   "execution_count": 13,
   "metadata": {},
   "outputs": [],
   "source": [
    "import seaborn as sns\n",
    "sns.set_theme(style=\"white\")\n",
    "from sklearn.manifold import MDS\n",
    "from grakel.utils import graph_from_networkx\n",
    "from grakel.kernels import WeisfeilerLehman, MultiscaleLaplacian, SubgraphMatching, VertexHistogram, RandomWalkLabeled\n",
    "import networkx as nx\n",
    "\n",
    "gk = WeisfeilerLehman(n_jobs=8, verbose=False, normalize=True, n_iter=3, base_graph_kernel=VertexHistogram)\n",
    "node_index_ranges = np.pad(np.cumsum(num_of_nodes_array), (1,0))\n",
    "edge_index_ranges = np.pad(np.cumsum(num_of_edges_array), (1,0))\n",
    "\n",
    "def parse_graph(graph_idx):\n",
    "    edge_list = edge_index_array[:,edge_index_ranges[graph_idx]:edge_index_ranges[graph_idx+1]].T\n",
    "    g = nx.Graph([tuple(e) for e in edge_list])\n",
    "    # set the node features\n",
    "    x = x_array[node_index_ranges[graph_idx]:node_index_ranges[graph_idx+1],:]\n",
    "    nx.set_node_attributes(g, {node: x[node, 0] for node in g}, 'attributes')\n",
    "    # set the edge features (TODO later)\n",
    "    nx.set_edge_attributes(g, [], \"attributes\")\n",
    "    return g"
   ]
  },
  {
   "cell_type": "code",
   "execution_count": 14,
   "metadata": {},
   "outputs": [
    {
     "name": "stdout",
     "output_type": "stream",
     "text": [
      "Train size: 174\n"
     ]
    }
   ],
   "source": [
    "start_idx = 4\n",
    "scaffold_idx_array = np.sort(sel_train_scaffold_idx)[start_idx:start_idx+3]\n",
    "graph_idx_array = []\n",
    "for scaffold_idx in scaffold_idx_array:\n",
    "    graph_idx_array.append(np.where(scaffold_array == scaffold_idx)[0])\n",
    "graph_idx_array = np.concatenate(graph_idx_array)\n",
    "train_len_graph_idx_array = len(graph_idx_array)\n",
    "print('Train size:', len(graph_idx_array))"
   ]
  },
  {
   "cell_type": "code",
   "execution_count": 15,
   "metadata": {},
   "outputs": [
    {
     "name": "stdout",
     "output_type": "stream",
     "text": [
      "Test size: 40\n"
     ]
    }
   ],
   "source": [
    "test_scaffold_idx_array = np.sort(sel_test_scaffold_idx)[:40]\n",
    "test_graph_idx_array = []\n",
    "for scaffold_idx in test_scaffold_idx_array:\n",
    "    test_graph_idx_array.append(np.where(scaffold_array == scaffold_idx)[0])\n",
    "test_graph_idx_array = np.concatenate(test_graph_idx_array)\n",
    "print('Test size:', len(test_graph_idx_array))\n",
    "\n",
    "graph_idx_array = np.concatenate([graph_idx_array, test_graph_idx_array])"
   ]
  },
  {
   "cell_type": "code",
   "execution_count": 16,
   "metadata": {},
   "outputs": [],
   "source": [
    "G_array = list(graph_from_networkx([parse_graph(idx) for idx in graph_idx_array], \n",
    "                                   node_labels_tag='attributes', edge_labels_tag='attributes'))\n",
    "sim_matrix = gk.fit_transform(G_array)"
   ]
  },
  {
   "cell_type": "code",
   "execution_count": 17,
   "metadata": {},
   "outputs": [
    {
     "name": "stderr",
     "output_type": "stream",
     "text": [
      "/cmlscratch/kong/anaconda3/envs/graph-domain/lib/python3.7/site-packages/sklearn/manifold/_mds.py:441: UserWarning: The MDS API has changed. ``fit`` now constructs an dissimilarity matrix from data. To use a custom dissimilarity matrix, set ``dissimilarity='precomputed'``.\n",
      "  warnings.warn(\"The MDS API has changed. ``fit`` now constructs an\"\n"
     ]
    },
    {
     "data": {
      "text/plain": [
       "<seaborn.axisgrid.FacetGrid at 0x7f6c8334b090>"
      ]
     },
     "execution_count": 17,
     "metadata": {},
     "output_type": "execute_result"
    },
    {
     "data": {
      "image/png": "[encoded data removed]",
      "text/plain": [
       "<Figure size 629.6x576 with 1 Axes>"
      ]
     },
     "metadata": {},
     "output_type": "display_data"
    }
   ],
   "source": [
    "mds = MDS(n_components=2)\n",
    "embedding = mds.fit_transform(sim_matrix)\n",
    "# color map\n",
    "color_map = [scaffold_array[graph_idx].item() for graph_idx in graph_idx_array[:train_len_graph_idx_array]]\n",
    "test_color_map = [1 for _ in graph_idx_array[train_len_graph_idx_array:]]\n",
    "color_map += test_color_map\n",
    "\n",
    "sns.relplot(x=embedding[:,0], y=embedding[:,1], hue=color_map, style=y_array[graph_idx_array].squeeze(),\n",
    "            sizes=(40, 400), alpha=.9, palette=\"muted\", height=8)"
   ]
  },
  {
   "cell_type": "code",
   "execution_count": null,
   "metadata": {},
   "outputs": [],
   "source": []
  },
  {
   "cell_type": "markdown",
   "metadata": {},
   "source": [
    "### Relative Distances"
   ]
  },
  {
   "cell_type": "code",
   "execution_count": 24,
   "metadata": {},
   "outputs": [],
   "source": [
    "def compute_ratio(start_idx) :\n",
    "    scaffold_idx_array = np.sort(sel_train_scaffold_idx)[start_idx:start_idx+100]\n",
    "    graph_idx_list = []\n",
    "    for scaffold_idx in scaffold_idx_array:\n",
    "        graph_idx_list.append(np.where(scaffold_array == scaffold_idx)[0])\n",
    "    graph_idx_array = np.concatenate(graph_idx_list)\n",
    "    print('Total graph num:', len(graph_idx_array))\n",
    "    G_array = list(graph_from_networkx([parse_graph(idx) for idx in graph_idx_array], \n",
    "                                       node_labels_tag='attributes', edge_labels_tag='attributes'))\n",
    "    sim_matrix = gk.fit_transform(G_array)\n",
    "    \n",
    "    \n",
    "    total = np.sum(sim_matrix)\n",
    "    num_of_graphs_list = [len(i) for i in graph_idx_list]\n",
    "    graph_ranges = np.pad(np.cumsum(num_of_graphs_list), (1,0))\n",
    "    \n",
    "    in_sca = 0\n",
    "    for i in range(len(graph_idx_list)) :\n",
    "        in_sca += np.sum(sim_matrix[graph_ranges[i]:graph_ranges[i+1], graph_ranges[i]:graph_ranges[i+1]])\n",
    "    \n",
    "    in_num = 0\n",
    "    for num in num_of_graphs_list :\n",
    "        in_num += num**2\n",
    "    in_num -= sim_matrix.shape[0]\n",
    "    \n",
    "    total_num = sim_matrix.shape[0]**2 - sim_matrix.shape[0]\n",
    "    \n",
    "    avg_in_sca = in_sca/in_num\n",
    "    out_num = total_num - in_num\n",
    "    out_total = total - in_sca\n",
    "    avg_out_sca = out_total/out_num\n",
    "    \n",
    "    print('Across over within:', avg_out_sca/avg_in_sca)\n",
    "    return avg_out_sca/avg_in_sca"
   ]
  },
  {
   "cell_type": "code",
   "execution_count": 25,
   "metadata": {},
   "outputs": [
    {
     "name": "stdout",
     "output_type": "stream",
     "text": [
      "Total graph num: 1128\n",
      "101\n",
      "Across over within: 0.7773040094556981\n",
      "Total graph num: 840\n",
      "101\n",
      "Across over within: 0.7482137431104573\n",
      "Total graph num: 660\n",
      "101\n",
      "Across over within: 0.7106843241593631\n",
      "Total graph num: 541\n",
      "101\n",
      "Across over within: 0.6754624859619472\n",
      "[0.77730401 0.74821374 0.71068432 0.67546249]\n",
      "0.7279161406718664, 0.03840402205665467\n"
     ]
    }
   ],
   "source": [
    "result_list = [compute_ratio(i) for i in range(50, 250, 50)]\n",
    "result_array = np.array(result_list)\n",
    "print(result_array)\n",
    "\n",
    "print(f'{np.mean(result_array)}, {np.std(result_array)}')"
   ]
  },
  {
   "cell_type": "code",
   "execution_count": null,
   "metadata": {},
   "outputs": [],
   "source": []
  }
 ],
 "metadata": {
  "kernelspec": {
   "display_name": "Python 3 (ipykernel)",
   "language": "python",
   "name": "python3"
  },
  "language_info": {
   "codemirror_mode": {
    "name": "ipython",
    "version": 3
   },
   "file_extension": ".py",
   "mimetype": "text/x-python",
   "name": "python",
   "nbconvert_exporter": "python",
   "pygments_lexer": "ipython3",
   "version": "3.7.9"
  }
 },
 "nbformat": 4,
 "nbformat_minor": 4
}
